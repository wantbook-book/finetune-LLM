{
 "cells": [
  {
   "cell_type": "code",
   "execution_count": 1,
   "metadata": {},
   "outputs": [
    {
     "name": "stderr",
     "output_type": "stream",
     "text": [
      "/pubshare/fwk/conda_envs/x_ft/lib/python3.10/site-packages/tqdm/auto.py:21: TqdmWarning: IProgress not found. Please update jupyter and ipywidgets. See https://ipywidgets.readthedocs.io/en/stable/user_install.html\n",
      "  from .autonotebook import tqdm as notebook_tqdm\n"
     ]
    }
   ],
   "source": [
    "from ft_datasets.imdb import IMDBDataset\n",
    "from transformers import AdamW, pipeline\n",
    "from datasets import load_dataset\n",
    "\n",
    "from transformers import GPT2LMHeadModel, GPT2Tokenizer, AutoModelForCausalLM, AutoTokenizer, BertForSequenceClassification, BertTokenizer\n",
    "from torch.utils.data import DataLoader\n",
    "from utils.io_utils import save\n",
    "import torch"
   ]
  },
  {
   "cell_type": "markdown",
   "metadata": {},
   "source": [
    "## 加载模型\n"
   ]
  },
  {
   "cell_type": "code",
   "execution_count": 2,
   "metadata": {},
   "outputs": [],
   "source": [
    "# 加载模型\n",
    "model_path = '/pubshare/fwk/training_results/imdb_sft_gpt2'\n",
    "# model_path = 'gpt2'\n",
    "model = AutoModelForCausalLM.from_pretrained(model_path)\n",
    "tokenizer = AutoTokenizer.from_pretrained(model_path)\n",
    "if tokenizer.pad_token_id is None:\n",
    "    tokenizer.pad_token_id = tokenizer.eos_token_id"
   ]
  },
  {
   "cell_type": "code",
   "execution_count": 3,
   "metadata": {},
   "outputs": [
    {
     "data": {
      "text/plain": [
       "GPT2LMHeadModel(\n",
       "  (transformer): GPT2Model(\n",
       "    (wte): Embedding(50257, 768)\n",
       "    (wpe): Embedding(1024, 768)\n",
       "    (drop): Dropout(p=0.1, inplace=False)\n",
       "    (h): ModuleList(\n",
       "      (0-11): 12 x GPT2Block(\n",
       "        (ln_1): LayerNorm((768,), eps=1e-05, elementwise_affine=True)\n",
       "        (attn): GPT2SdpaAttention(\n",
       "          (c_attn): Conv1D()\n",
       "          (c_proj): Conv1D()\n",
       "          (attn_dropout): Dropout(p=0.1, inplace=False)\n",
       "          (resid_dropout): Dropout(p=0.1, inplace=False)\n",
       "        )\n",
       "        (ln_2): LayerNorm((768,), eps=1e-05, elementwise_affine=True)\n",
       "        (mlp): GPT2MLP(\n",
       "          (c_fc): Conv1D()\n",
       "          (c_proj): Conv1D()\n",
       "          (act): NewGELUActivation()\n",
       "          (dropout): Dropout(p=0.1, inplace=False)\n",
       "        )\n",
       "      )\n",
       "    )\n",
       "    (ln_f): LayerNorm((768,), eps=1e-05, elementwise_affine=True)\n",
       "  )\n",
       "  (lm_head): Linear(in_features=768, out_features=50257, bias=False)\n",
       ")"
      ]
     },
     "execution_count": 3,
     "metadata": {},
     "output_type": "execute_result"
    }
   ],
   "source": [
    "device = torch.device(\"cuda:4\")\n",
    "model.to(device) "
   ]
  },
  {
   "cell_type": "markdown",
   "metadata": {},
   "source": [
    "## 加载数据集"
   ]
  },
  {
   "cell_type": "code",
   "execution_count": 4,
   "metadata": {},
   "outputs": [],
   "source": [
    "# 加载数据集\n",
    "data_path = '/pubshare/fwk/huggingface/datasets/imdb/plain_text'\n",
    "# 加载 IMDb 数据集\n",
    "dataset = load_dataset(data_path)\n",
    "# 过滤正面评论\n",
    "positive_reviews = dataset['train'].filter(lambda x: x['label'] == 1)\n",
    "\n",
    "train_test_split = positive_reviews.train_test_split(test_size=0.1)\n",
    "train_dataset = train_test_split['train']\n",
    "test_dataset = train_test_split['test']\n",
    "test_dataset = IMDBDataset(test_dataset, tokenizer)\n",
    "test_loader = DataLoader(test_dataset, batch_size=128, shuffle=False)"
   ]
  },
  {
   "cell_type": "markdown",
   "metadata": {},
   "source": [
    "## 情感分类器"
   ]
  },
  {
   "cell_type": "code",
   "execution_count": 5,
   "metadata": {},
   "outputs": [
    {
     "name": "stderr",
     "output_type": "stream",
     "text": [
      "Hardware accelerator e.g. GPU is available in the environment, but no `device` argument is passed to the `Pipeline` object. Model will be on CPU.\n"
     ]
    }
   ],
   "source": [
    "sentiment_model_path = '/pubshare/fwk/huggingface/models/siebert/sentiment-roberta-large-english'\n",
    "sentiment_classifier = pipeline(\"sentiment-analysis\", model=sentiment_model_path)"
   ]
  },
  {
   "cell_type": "code",
   "execution_count": 6,
   "metadata": {},
   "outputs": [],
   "source": [
    "def evaluate(model, tokenizer, dataloader, sentiment_classifier, device)->tuple[list[float], list[float]]:\n",
    "    model.eval()\n",
    "    total_score = 0\n",
    "    count = 0\n",
    "    positive_score = []\n",
    "    negative_score = [] \n",
    "    for batch in dataloader:\n",
    "        print(count)\n",
    "        count+=1\n",
    "        inputs = batch[\"input_ids\"][:,:6].to(device)\n",
    "        attention_mask = batch[\"attention_mask\"][:, :6].to(device)\n",
    "        with torch.no_grad():\n",
    "            outputs = model.generate(inputs, attention_mask=attention_mask, max_length=510, pad_token_id=tokenizer.pad_token_id, eos_token_id=tokenizer.eos_token_id)\n",
    "        for output in outputs:\n",
    "            generated_text = tokenizer.decode(output, skip_special_tokens=True)\n",
    "            sentiment = sentiment_classifier(generated_text)[0]\n",
    "            if sentiment['label'] == 'POSITIVE':\n",
    "                # total_score += sentiment['score']\n",
    "                positive_score.append(sentiment['score'])\n",
    "            else:\n",
    "                negative_score.append(sentiment['score'])\n",
    "            # count += 1\n",
    "    # avg_score = total_score / count if count > 0 else 0\n",
    "    # avg_pos_score = sum(positive_score) / len(positive_score) if len(positive_score) > 0 else 0\n",
    "    # avg_neg_score = sum(negative_score) / len(negative_score) if len(negative_score) > 0 else 0\n",
    "    # return avg_pos_score, avg_neg_score\n",
    "    return positive_score, negative_score"
   ]
  },
  {
   "cell_type": "code",
   "execution_count": 19,
   "metadata": {},
   "outputs": [
    {
     "name": "stdout",
     "output_type": "stream",
     "text": [
      "0\n"
     ]
    }
   ],
   "source": [
    "positive_score, negative_score = evaluate(model, tokenizer, test_loader, sentiment_classifier, device)"
   ]
  },
  {
   "cell_type": "markdown",
   "metadata": {},
   "source": [
    "## 生成文本测试"
   ]
  },
  {
   "cell_type": "code",
   "execution_count": 9,
   "metadata": {},
   "outputs": [],
   "source": [
    "def generate_positive_review(prefix, model, tokenizer, device, max_length=510):\n",
    "    model.eval()\n",
    "    inputs = tokenizer(prefix, return_tensors=\"pt\").to(device)\n",
    "    outputs = model.generate(inputs.input_ids, attention_mask=inputs.attention_mask, max_length=max_length, pad_token_id=tokenizer.pad_token_id, eos_token_id=tokenizer.eos_token_id)\n",
    "    review = tokenizer.decode(outputs[0], skip_special_tokens=True)\n",
    "    return review"
   ]
  },
  {
   "cell_type": "code",
   "execution_count": 10,
   "metadata": {},
   "outputs": [],
   "source": [
    "f = open('sft_generate.txt', 'w')\n",
    "for i in range(10):\n",
    "    review_tokens = test_dataset[i]\n",
    "    # review_tokens = tokenizer(review, return_tensors=\"pt\")\n",
    "    prefix = tokenizer.decode(review_tokens['input_ids'][:6], skip_special_tokens=True)\n",
    "    generated_review = generate_positive_review(prefix, model, tokenizer, device)\n",
    "    f.write(f'prefix: {prefix}, generated review: {generated_review}\\n')\n",
    "    f.write('==='*20+'\\n')\n",
    "    # print(f'prefix: {prefix}, generated review: {generated_review}')\n",
    "f.close()\n",
    "\n"
   ]
  }
 ],
 "metadata": {
  "kernelspec": {
   "display_name": "Python 3",
   "language": "python",
   "name": "python3"
  },
  "language_info": {
   "codemirror_mode": {
    "name": "ipython",
    "version": 3
   },
   "file_extension": ".py",
   "mimetype": "text/x-python",
   "name": "python",
   "nbconvert_exporter": "python",
   "pygments_lexer": "ipython3",
   "version": "3.10.14"
  }
 },
 "nbformat": 4,
 "nbformat_minor": 2
}
