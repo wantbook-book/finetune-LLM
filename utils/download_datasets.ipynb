{
 "cells": [
  {
   "cell_type": "code",
   "execution_count": null,
   "metadata": {},
   "outputs": [],
   "source": [
    "import os\n",
    "os.environ['HF_ENDPOINT'] = 'https://hf-mirror.com'\n",
    "from huggingface_hub import snapshot_download\n",
    "# it downloads the latest revision by default\n",
    "snapshot_download(repo_id=\"openai-community/gpt2-large\", local_dir='/pubshare/fwk/huggingface/models', repo_type='model')"
   ]
  }
 ],
 "metadata": {
  "language_info": {
   "name": "python"
  }
 },
 "nbformat": 4,
 "nbformat_minor": 2
}
